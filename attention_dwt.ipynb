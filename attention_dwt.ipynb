{
 "cells": [
  {
   "cell_type": "code",
   "execution_count": 1,
   "id": "3422fd56-0566-43c3-9dfc-be80b3b7e43a",
   "metadata": {},
   "outputs": [],
   "source": [
    "import numpy as np\n",
    "import matplotlib.pyplot as plt\n",
    "#import psutil\n",
    "\n",
    "import torch"
   ]
  },
  {
   "cell_type": "code",
   "execution_count": 2,
   "id": "58904a73-e79a-4a2e-b67b-923eaaca0dd1",
   "metadata": {},
   "outputs": [],
   "source": [
    "import torch\n",
    "import torch.nn as nn"
   ]
  },
  {
   "cell_type": "code",
   "execution_count": 3,
   "id": "cb2b1393-0acf-4910-b92f-81d1ea52aa2e",
   "metadata": {},
   "outputs": [],
   "source": [
    "##### building the model architecture\n",
    "\n",
    "#### 2d dwt transform operation \n",
    "def dwt(x) :\n",
    "    \n",
    "    x01 = x[:,:,0::2,:]/2\n",
    "    x02 = x[:,:,1::2,:]/2\n",
    "    x1 = x01[:,:,:,0::2]\n",
    "    x2 = x01[:,:,:,1::2]\n",
    "    x3 = x02[:,:,:,0::2]\n",
    "    x4 = x02[:,:,:,1::2]\n",
    "    x_LL = x1 + x2 + x3 + x4\n",
    "    x_LH = -x1 -x2 + x3 + x4\n",
    "    x_HL = -x1 + x2 -x3 + x4\n",
    "    x_HH = x1 -x2 -x3 + x4\n",
    "    return x_LL,torch.cat([x_LH,x_HL,x_HH],1)\n"
   ]
  },
  {
   "cell_type": "code",
   "execution_count": 4,
   "id": "4e7f1a19-9d79-43df-909e-6878709108c8",
   "metadata": {},
   "outputs": [],
   "source": [
    "#### DWT modules \n",
    "class DWT(nn.Module) :\n",
    "    def __init__(self) :\n",
    "        super().__init__()\n",
    "        self.requires_grad = False \n",
    "    def forward(self,x) :\n",
    "        return dwt(x)\n",
    "    \n",
    "    "
   ]
  },
  {
   "cell_type": "code",
   "execution_count": 5,
   "id": "49ab8826-698c-42e9-93ac-2687b1657e78",
   "metadata": {},
   "outputs": [],
   "source": [
    "class DWT_down(nn.Module) :\n",
    "    def __init__(self,in_c,out_c) :\n",
    "        super().__init__()\n",
    "        self.conv_block = nn.Sequential(nn.Conv2d(in_c,out_c,kernel_size = 4 ,stride = 2, padding = 1,bias = True),\n",
    "                                        nn.BatchNorm2d(out_c),\n",
    "                                        nn.LeakyReLU(0.2,inplace = True)\n",
    "        )\n",
    "    def forward(self,x)  :\n",
    "        x = self.conv_block(x)\n",
    "        return x\n"
   ]
  },
  {
   "cell_type": "code",
   "execution_count": 6,
   "id": "59167150-fd2b-4a02-a901-037aeb235d4a",
   "metadata": {},
   "outputs": [],
   "source": [
    "#### DWT Module\n",
    "class DWT_up_bottom(nn.Module) :\n",
    "    def __init__(self,in_c,out_c) :\n",
    "        super().__init__()\n",
    "        self.conv_block = nn.Sequential(nn.ConvTranspose2d(in_c,out_c,kernel_size = 3,stride = 1 , padding = 1,bias = True),\n",
    "                                        nn.BatchNorm2d(out_c),\n",
    "                                        nn.ReLU()\n",
    "                                       )\n",
    "    def  forward(self,x)    :\n",
    "        x = self.conv_block(x)\n",
    "        return x\n",
    "     "
   ]
  },
  {
   "cell_type": "code",
   "execution_count": 7,
   "id": "5beb9202-6ae4-48c7-93ad-471ac13d9c6f",
   "metadata": {},
   "outputs": [],
   "source": [
    "class DWT_up(nn.Module)   :\n",
    "    def __init__(self,in_c,out_c) :\n",
    "        super().__init__()\n",
    "        self.conv_block = nn.Sequential(nn.ConvTranspose2d(in_c,out_c,kernel_size = 4 ,stride = 2 , padding = 1,bias = True),\n",
    "                                        nn.BatchNorm2d(out_c),\n",
    "                                        nn.ReLU()\n",
    "                                       )\n",
    "    def  forward(self,x)    :\n",
    "        x = self.conv_block(x)\n",
    "        return x\n",
    "    "
   ]
  },
  {
   "cell_type": "code",
   "execution_count": 8,
   "id": "4f4e11f0-935d-4a3b-ace8-7ed811fd70cb",
   "metadata": {},
   "outputs": [],
   "source": [
    "### initial and dwt 1x1 convolution blocks\n",
    "class init_conv(nn.Module) :\n",
    "    def __init__(self,in_c,out_c) :\n",
    "        super().__init__()\n",
    "        self.conv_block = nn.Sequential(nn.Conv2d(in_c,out_c,kernel_size =  3,stride = 1, padding = 1),\n",
    "                                        nn.BatchNorm2d(out_c),\n",
    "                                        nn.LeakyReLU(0.2,inplace = True)\n",
    "        )\n",
    "    def forward(self,x)  :\n",
    "        x = self.conv_block(x)\n",
    "        return x\n"
   ]
  },
  {
   "cell_type": "code",
   "execution_count": 9,
   "id": "721f7663-6cc8-4849-833e-2c462abd933d",
   "metadata": {},
   "outputs": [],
   "source": [
    "class conv_1x1_down(nn.Module) :\n",
    "    def __init__(self,in_c,out_c ):\n",
    "        super().__init__()\n",
    "        self.conv_block = nn.Sequential(nn.Conv2d(in_c,out_c,kernel_size = 1,stride = 1,padding = 0))\n",
    "                 \n",
    "    def forward(self,x) :\n",
    "        \n",
    "        x = self.conv_block(x) \n",
    "        return x"
   ]
  },
  {
   "cell_type": "code",
   "execution_count": 10,
   "id": "6d8fae15-dcaa-47bb-a192-38b80c837e58",
   "metadata": {},
   "outputs": [],
   "source": [
    "def special(x) :\n",
    "    for  i in range(31) :\n",
    "        x = torch.cat([x,x],1)\n",
    "    return  x    \n",
    "        \n",
    "    \n",
    "class special_block(nn.Module):\n",
    "    def __init__(self) :\n",
    "        super().__init__()\n",
    "        self.requires_grad = False\n",
    "    def forward(self,x) :\n",
    "        return special(x)"
   ]
  },
  {
   "cell_type": "code",
   "execution_count": 11,
   "id": "550d0d07-0ce8-4515-8cd0-8aa21cfd6b72",
   "metadata": {},
   "outputs": [],
   "source": [
    "class conv_1x1_up(nn.Module) :\n",
    "    def __init__(self,in_c,out_c) :\n",
    "        super().__init__()\n",
    "        self.conv_block = nn.Sequential(nn.Conv2d(in_c,out_c,kernel_size = 1,stride = 1,padding = 0),\n",
    "                                       nn.Upsample(scale_factor=2, mode='bilinear', align_corners=True))\n",
    "    def forward(self,x)   :\n",
    "        x = self.conv_block(x)\n",
    "        return x"
   ]
  },
  {
   "cell_type": "code",
   "execution_count": 12,
   "id": "8889f0c4-884a-4fec-ba03-39e3d104f9f7",
   "metadata": {},
   "outputs": [],
   "source": [
    "#### attention module space and channel attention block\n",
    "\n",
    "\n",
    "     ### defining maxpool operation\n",
    "def maxip(x):\n",
    "  conv = nn.MaxPool2d(kernel_size = x.shape[2], stride = 1)\n",
    "  return conv(x)\n",
    "\n",
    "## defining average pool\n",
    "def avgop(x) :\n",
    "  conv = nn.AvgPool2d(kernel_size = x.shape[2],stride =1)\n",
    "  return conv(x)   \n"
   ]
  },
  {
   "cell_type": "code",
   "execution_count": 13,
   "id": "b9d613c0-a1a6-4c8e-ba85-189e3d308f00",
   "metadata": {},
   "outputs": [],
   "source": [
    "class chann_Att(nn.Module) :\n",
    "  def __init__(self,in_c) :\n",
    "    super().__init__()\n",
    "\n",
    "    self.conv_block = nn.Conv2d(in_c,int(in_c/4),kernel_size = (2,1),stride = 1)\n",
    "    self.conv_block1 = nn.Sequential( nn.Conv2d(int(in_c/4),in_c,kernel_size = 1,stride = 1))\n",
    "                                    \n",
    "  def forward(self,x) :\n",
    "      x1 = maxip(x)\n",
    "      x2 = avgop(x)\n",
    "      x_ = torch.cat([x1,x2],2)\n",
    "      y1 = self.conv_block(x_)\n",
    "      out = self.conv_block1(y1)\n",
    "      return out"
   ]
  },
  {
   "cell_type": "code",
   "execution_count": 14,
   "id": "5ca2d7a9-03c5-4eac-9c67-4d06866954fd",
   "metadata": {},
   "outputs": [],
   "source": [
    "class  MeanO_weight(nn.Module) :\n",
    "    def __init__(self) :\n",
    "        super().__init__()\n",
    "        self.requires_grad = False\n",
    "    def forward(self,x) :\n",
    "        \n",
    "        padding_input = nn.ZeroPad2d(1);\n",
    "        x_new = padding_input(x)\n",
    "        x_new.shape  ### 32,256,7,7\n",
    "        x_2shape = (x.shape[0],1,x.shape[2],x.shape[3])  \n",
    "        x_2 = torch.zeros(x_2shape)\n",
    "        for i in range(x.shape[0]) :\n",
    "            for j in range(x.shape[2]) :\n",
    "                for k in range(x.shape[3]) :\n",
    "                    h_start = j;\n",
    "                    h_end = j+3;\n",
    "                    w_start = k;\n",
    "                    w_end =  k +3;\n",
    "                    x_s = x_new[i,:,h_start : h_end,w_start: w_end]\n",
    "                    x_2[i,:,j,k] = torch.mean(x_s);\n",
    "        return x_2"
   ]
  },
  {
   "cell_type": "code",
   "execution_count": 15,
   "id": "99d5d953-b9a9-4190-aafa-83665c219332",
   "metadata": {},
   "outputs": [],
   "source": [
    "#### function for finding spacial weight using max operation\n",
    "class MaxO_weight(nn.Module) :\n",
    "  def __init__(self) :\n",
    "      super().__init__() \n",
    "      self.requires_grad = False\n",
    "  def forward(self,x) :\n",
    "      padding_input = nn.ZeroPad2d(1);\n",
    "      x_new = padding_input(x)\n",
    "      x_new.shape  ### 32,256,7,7\n",
    "      x_1shape = (x.shape[0],1,x.shape[2],x.shape[3])  \n",
    "      x_1 = torch.zeros(x_1shape)\n",
    "      for i in range(x.shape[0]) :\n",
    "          for j in range(x.shape[2]) :\n",
    "              for k in range(x.shape[3]) :\n",
    "                  h_start = j\n",
    "                  h_end = j+3\n",
    "                  w_start = k\n",
    "                  w_end =  k +3\n",
    "                  x_s = x_new[i,:,h_start : h_end,w_start: w_end]\n",
    "                  x_1[i,:,j,k] = torch.max(x_s)\n",
    "      return x_1\n"
   ]
  },
  {
   "cell_type": "code",
   "execution_count": 16,
   "id": "2715b226-b8b1-4716-a3ca-7201f1bcb573",
   "metadata": {},
   "outputs": [],
   "source": [
    "class spacial_pool(nn.Module) :\n",
    "    def __init__(self) :\n",
    "        super().__init__()\n",
    "        self.requires_grad = False\n",
    "    def forward(self,x) :\n",
    "        return torch.cat([torch.max(x,1)[0].unsqueeze(1),torch.mean(x,1).unsqueeze(1)],1)"
   ]
  },
  {
   "cell_type": "code",
   "execution_count": null,
   "id": "1a8834ed-02d3-452a-b897-d34924d09ae8",
   "metadata": {},
   "outputs": [],
   "source": []
  },
  {
   "cell_type": "code",
   "execution_count": 17,
   "id": "9ce72999-6e89-4ba1-a987-b1397d2b9bea",
   "metadata": {},
   "outputs": [],
   "source": [
    "class space_Att(nn.Module) :\n",
    "  def __init__(self) :\n",
    "    super().__init__()\n",
    "    self.maxiO = MaxO_weight()\n",
    "    self.meanO = MeanO_weight()  \n",
    "    self.pool_Att = spacial_pool()   \n",
    "\n",
    "      \n",
    "    self.conv_block1 = nn.Conv2d(2,10, kernel_size = 3 ,padding = 1,stride = 1)\n",
    "    self.conv_block2 = nn.Sequential(nn.BatchNorm2d(10),\n",
    "                                nn.ReLU(),\n",
    "                                nn.Conv2d(10,1,kernel_size =3 ,padding =1 ,stride = 1),\n",
    "                                nn.Sigmoid()\n",
    "\n",
    "    )\n",
    "  def forward(self,x) :\n",
    "      x1 = self.pool_Att(x)\n",
    "      x2 = self.conv_block1(x1)\n",
    "      out = self.conv_block2(x2)\n",
    "      return out\n"
   ]
  },
  {
   "cell_type": "code",
   "execution_count": 18,
   "id": "e3964b44-cd3f-42a0-879e-92bc0e49a79c",
   "metadata": {},
   "outputs": [],
   "source": [
    "class CSAB(nn.Module) :\n",
    "  def __init__(self,in_c) :\n",
    "    super().__init__()\n",
    "    self.channel_Att = chann_Att(in_c)\n",
    "    self.space_Att = space_Att()\n",
    "  def forward(self,x) :\n",
    "    x1 = self.channel_Att(x)\n",
    "    x2 = self.space_Att(x)\n",
    "    out1 = torch.mul(x,x1)\n",
    "    out2 = torch.mul(x,x2)\n",
    "    out3 = torch.mul(out1,x2)\n",
    "    return out3\n"
   ]
  },
  {
   "cell_type": "code",
   "execution_count": null,
   "id": "12907d5b-3949-404f-a688-9b2f45a2d77e",
   "metadata": {},
   "outputs": [],
   "source": []
  },
  {
   "cell_type": "code",
   "execution_count": null,
   "id": "1da9fde0-cb5c-4ce8-82cb-b328f471ea9e",
   "metadata": {},
   "outputs": [],
   "source": []
  },
  {
   "cell_type": "code",
   "execution_count": null,
   "id": "e2c8557d-a4da-422f-91ba-64a11947173c",
   "metadata": {},
   "outputs": [],
   "source": []
  },
  {
   "cell_type": "code",
   "execution_count": 19,
   "id": "078a1c1e-4de6-46b6-a58e-7fab89e64d58",
   "metadata": {},
   "outputs": [],
   "source": [
    "#### architecture of model\n",
    "class model_image_reconst(nn.Module) :\n",
    "    def __init__(self) :\n",
    "        super().__init__()\n",
    "        self.first = init_conv(1,32)\n",
    "        self.DWT = DWT()\n",
    "        self.down1 = DWT_down(32,64)\n",
    "        self.down2 = DWT_down(128,128)\n",
    "        self.down3 = DWT_down(256,256)\n",
    "        self.second = init_conv(512,512)\n",
    "        self.bottom = DWT_up_bottom(512,512)\n",
    "        self.up1 = DWT_up(1024,256)\n",
    "        self.up2 = DWT_up(768,128)\n",
    "        self.up3 = DWT_up(384,64)\n",
    "        self.third = init_conv(512,512)\n",
    "        self.down_low_f1 = conv_1x1_down(32,64)\n",
    "        self.down_low_f2 = conv_1x1_down(128,128)\n",
    "        self.down_low_f3 = conv_1x1_down(256,256)\n",
    "        self.up_high_f3 = conv_1x1_up(3*256,256)\n",
    "        self.up_high_f2 = conv_1x1_up(3*128,128)\n",
    "        self.up_high_f1 = conv_1x1_up(3*32,64)\n",
    "        self.zero_pad = nn.ZeroPad2d(2)\n",
    "        self.cs_Att1_low = CSAB(32)\n",
    "        self.cs_Att1_high = CSAB(96)\n",
    "        \n",
    "        self.cs_Att2_low = CSAB(128)\n",
    "        self.cs_Att2_high = CSAB(3*128)\n",
    "        self.cs_Att3_low = CSAB(256)\n",
    "        self.cs_Att3_high = CSAB(3*256)\n",
    "        \n",
    "        self.tail_0 = nn.Sequential(nn.Conv2d(128,32,kernel_size = 5 , stride  = 1,padding =0),\n",
    "                                   nn.BatchNorm2d(32),\n",
    "                                   nn.ReLU())\n",
    "        self.tail_1 = nn.Sequential(nn.Conv2d(64,32,kernel_size = 3 , stride  = 1,padding =1),\n",
    "                                   nn.BatchNorm2d(32),\n",
    "                                   nn.ReLU())\n",
    "        self.tail_01 = nn.Sequential(nn.Conv2d(32,32,kernel_size = 3 , stride  = 1,padding =1),\n",
    "                                   #nn.BatchNorm2d(32)\n",
    "                                   nn.ReLU())\n",
    "        self.tail_2 = nn.Conv2d(32,1,kernel_size = 3, stride = 1,padding  = 1)\n",
    "        self.conv_13 = nn.ConvTranspose2d(256,256,kernel_size = 3, stride  = 1, padding  = 1)\n",
    "        self.tanh = nn.Tanh()\n",
    "        self.last = nn.Sequential(nn.Conv2d(2,1,kernel_size = 1,stride =1 ,padding = 0),nn.ReLU())\n",
    "        self.special = special_block()\n",
    "        \n",
    "    def forward(self,x)  :\n",
    "        \n",
    "        x_1 = self.first(x)\n",
    "        x1 = self.zero_pad(x_1)\n",
    "        \n",
    "        low_f1 ,high_f1 = self.DWT(x1)\n",
    "        #low_f1 = self.cs_Att1_low(low_f1)\n",
    "        high_f1 = self.cs_Att1_high(high_f1)\n",
    "        \n",
    "        low_f1 = self.down_low_f1(low_f1)\n",
    "        \n",
    "        x2 = self.down1(x1)\n",
    "        \n",
    "        x2 = torch.cat([x2,low_f1],1)\n",
    "        \n",
    "        low_f2,high_f2 = self.DWT(x2)\n",
    "       # low_f2 = self.cs_Att2_low(low_f2)\n",
    "        high_f2 = self.cs_Att2_high(high_f2)\n",
    "        low_f2 = self.down_low_f2(low_f2)\n",
    "        x3 = self.down2(x2)\n",
    "        x3 = torch.cat([x3,low_f2],1)\n",
    "        #print(x3.shape)\n",
    "        low_f3,high_f3 = self.DWT(x3)\n",
    "       # low_f3 = self.cs_Att3_low(low_f3)\n",
    "        high_f3 = self.cs_Att3_high(high_f3)        \n",
    "        low_f3 = self.down_low_f3(low_f3)\n",
    "        x4 = self.down3(x3)\n",
    "        x4 = torch.cat([x4,low_f3],1)\n",
    "        x5 = self.second(x4)\n",
    "        y0 = self.bottom(x5)\n",
    "        y0 = torch.cat([y0,x4],1)\n",
    "        y1 = self.up1(y0)\n",
    "        high_f3 = self.up_high_f3(high_f3)\n",
    "        high_f3 = self.conv_13(high_f3)\n",
    "        y1 = torch.cat([y1,high_f3,x3],1)\n",
    "        y2 = self.up2(y1)\n",
    "        high_f2 = self.up_high_f2(high_f2)\n",
    "        y2 = torch.cat([y2,high_f2,x2],1)\n",
    "        y3 = self.up3(y2)\n",
    "        high_f1 = self.up_high_f1(high_f1)\n",
    "        y3 = torch.cat([y3,high_f1],1)\n",
    "        #print(y3.shape)\n",
    "        y4 = self.tail_0(y3)\n",
    "        #print(y4.shap(e)\n",
    "        y4 = torch.cat([y4 , x_1],1)\n",
    "        y5 = self.tail_1(y4)\n",
    "        \n",
    "        \n",
    "        y6 = self.tail_01(y5)\n",
    "        out = self.tail_2(y6)\n",
    "        out = torch.cat([out,x],1)\n",
    "        out = self.last(out)\n",
    "        \n",
    "        \n",
    "        return out\n",
    "        \n",
    "        \n"
   ]
  },
  {
   "cell_type": "code",
   "execution_count": 20,
   "id": "0c706935-f069-41e5-af65-a2bb09ccc6ea",
   "metadata": {},
   "outputs": [],
   "source": [
    "####### loading the data set\n",
    "from  glob import glob\n",
    "import os\n",
    "train_x = sorted(glob(\"C:/Users/Pawan/Documents/pavan_data_500/train/images/*\"))"
   ]
  },
  {
   "cell_type": "code",
   "execution_count": 21,
   "id": "4cd0a2df-e1ad-4e89-bf8d-648ce6b5ca19",
   "metadata": {},
   "outputs": [
    {
     "data": {
      "text/plain": [
       "['C:/Users/Pawan/Documents/pavan_data_500/train/grdtruth\\\\gtruth_0001.png',\n",
       " 'C:/Users/Pawan/Documents/pavan_data_500/train/grdtruth\\\\gtruth_0002.png',\n",
       " 'C:/Users/Pawan/Documents/pavan_data_500/train/grdtruth\\\\gtruth_0003.png',\n",
       " 'C:/Users/Pawan/Documents/pavan_data_500/train/grdtruth\\\\gtruth_0004.png',\n",
       " 'C:/Users/Pawan/Documents/pavan_data_500/train/grdtruth\\\\gtruth_0005.png',\n",
       " 'C:/Users/Pawan/Documents/pavan_data_500/train/grdtruth\\\\gtruth_0006.png',\n",
       " 'C:/Users/Pawan/Documents/pavan_data_500/train/grdtruth\\\\gtruth_0007.png']"
      ]
     },
     "execution_count": 21,
     "metadata": {},
     "output_type": "execute_result"
    }
   ],
   "source": [
    "train_y = sorted(glob(\"C:/Users/Pawan/Documents/pavan_data_500/train/grdtruth/*\"))\n",
    "train_y[:7]"
   ]
  },
  {
   "cell_type": "code",
   "execution_count": 22,
   "id": "13d4a272-6449-4b58-9d4f-28cc29be1a30",
   "metadata": {},
   "outputs": [],
   "source": [
    "\n",
    "\n",
    "\n",
    "\n",
    "\n",
    "\n",
    "test_y = sorted(glob(\"C:/Users/Pawan/Documents/pavan_data_500/test/grdtruth/*\"))\n",
    "test_x = sorted(glob(\"C:/Users/Pawan/Documents/pavan_data_500/test/images/*\"))"
   ]
  },
  {
   "cell_type": "code",
   "execution_count": 23,
   "id": "9ec8c8fd-b627-4d28-8d34-211abfb89a87",
   "metadata": {},
   "outputs": [],
   "source": [
    "###### dataloader \n",
    "from PIL import Image ,ImageOps\n",
    "from torch.utils.data import Dataset,DataLoader\n",
    "class DWT_dataset(Dataset) :\n",
    "    def __init__(self,image_path,gtr_path) :\n",
    "        self.image_path = image_path\n",
    "        self.gtr_path = gtr_path\n",
    "    def __len__(self)    :\n",
    "        return len(self.image_path)\n",
    "    def __getitem__(self,idx) :\n",
    "        image = Image.open(self.image_path[idx])\n",
    "    \n",
    "        image = np.expand_dims(image,axis = 0)\n",
    "        image = image.astype(np.float32)\n",
    "        image = image\n",
    "        image = torch.from_numpy(image)\n",
    "        gtr = Image.open(self.gtr_path[idx])\n",
    "        gtr = np.expand_dims(gtr,axis = 0)\n",
    "        gtr = gtr.astype(np.float32)\n",
    "        gtr = gtr\n",
    "        gtr = torch.from_numpy(gtr)\n",
    "        return image, gtr"
   ]
  },
  {
   "cell_type": "code",
   "execution_count": 24,
   "id": "2138504a-1b29-4532-aa35-91a8a2f41206",
   "metadata": {},
   "outputs": [
    {
     "data": {
      "text/plain": [
       "('C:/Users/Pawan/Documents/pavan_data_500/train/images\\\\train_0006.png',\n",
       " 'C:/Users/Pawan/Documents/pavan_data_500/train/grdtruth\\\\gtruth_0006.png')"
      ]
     },
     "execution_count": 24,
     "metadata": {},
     "output_type": "execute_result"
    }
   ],
   "source": [
    "### creation of dataset\n",
    "\n",
    "train_dataset = DWT_dataset(train_x,train_y)\n",
    "test_dataset = DWT_dataset(test_x,test_y)\n",
    "\n",
    "train_x[5],train_y[5]"
   ]
  },
  {
   "cell_type": "code",
   "execution_count": 25,
   "id": "99a03810-fbfc-4aef-a33c-0d001fccffc5",
   "metadata": {},
   "outputs": [
    {
     "data": {
      "text/plain": [
       "4200"
      ]
     },
     "execution_count": 25,
     "metadata": {},
     "output_type": "execute_result"
    }
   ],
   "source": [
    "#### dataloader\n",
    "epochs = 25\n",
    "batch_size = 40\n",
    "train_loader = DataLoader(dataset = train_dataset,batch_size = batch_size)\n",
    "\n",
    "len(train_dataset)\n"
   ]
  },
  {
   "cell_type": "code",
   "execution_count": 26,
   "id": "5ebb0796-95f7-4904-ae17-73e54f295505",
   "metadata": {},
   "outputs": [],
   "source": [
    "test_loader = DataLoader(dataset = test_dataset,shuffle = False,batch_size = batch_size )\n",
    "device = 'cuda' \n",
    "loss_fn = nn.L1Loss()\n",
    "lr = 0.001"
   ]
  },
  {
   "cell_type": "code",
   "execution_count": 27,
   "id": "ff1ccc76-47be-4b6a-bcb7-a6d609f586de",
   "metadata": {},
   "outputs": [],
   "source": [
    "model1 = model_image_reconst()\n",
    "model1 = model1.to(device)\n"
   ]
  },
  {
   "cell_type": "code",
   "execution_count": 28,
   "id": "a1dad686-c4bc-49a2-92e3-fca581ab1d8b",
   "metadata": {},
   "outputs": [],
   "source": [
    "import random\n",
    "def seeding(seed) :\n",
    "  random.seed(seed)\n",
    "  os.environ[\"PYTHONHASHSEED\"] = str(seed)\n",
    "  np.random.seed(seed)\n",
    "  torch.manual_seed(seed)\n",
    "  torch.cuda.manual_seed(seed)\n",
    "  torch.backends.cudnn.deterministic = True"
   ]
  },
  {
   "cell_type": "code",
   "execution_count": 29,
   "id": "e4c5a288-9a06-4547-a753-5398b58978b3",
   "metadata": {},
   "outputs": [],
   "source": [
    "optimizer = torch.optim.Adam(model1.parameters(),lr,betas =( 0.5,0.8),weight_decay = 0.00001)\n",
    "scheduler = torch.optim.lr_scheduler.ReduceLROnPlateau(optimizer,'min',patience = 5,verbose = True)\n",
    "model_params_path = \"C:/Users/Pawan/Documents/pavan_data_500/model_parameters2.pth\"\n",
    "model_params_trainpath = \"C:/Users/Pawan/Documents/pavan_data_500/model_parameters3.pth\""
   ]
  },
  {
   "cell_type": "code",
   "execution_count": 30,
   "id": "bee1cf39-de9b-45fa-8da5-82c07202f342",
   "metadata": {},
   "outputs": [],
   "source": [
    "##### training and validating\n",
    "def train(model,loader,optimizer,loss_fn,device) :\n",
    "    epoch_loss = 0.0\n",
    "    model.train()\n",
    "    for x,y in loader:\n",
    "        \n",
    "        x = x.to(device,dtype = torch.float32)\n",
    "        y = y.to(device,dtype = torch.float32)\n",
    "        optimizer.zero_grad()\n",
    "        y_pred = model(x)\n",
    "        loss = loss_fn(y_pred,y)\n",
    "        loss.backward()\n",
    "        optimizer.step()\n",
    "        epoch_loss += loss.item()\n",
    "    epoch_loss = epoch_loss/len(loader)     \n",
    "    return epoch_loss"
   ]
  },
  {
   "cell_type": "code",
   "execution_count": 31,
   "id": "3731cc5d-5e2c-47c6-a330-008659c48c62",
   "metadata": {},
   "outputs": [],
   "source": [
    "#### evaluating\n",
    "def evaluate(model,loader,loss_fn,device):\n",
    "    epoch_loss = 0.0 \n",
    "    model.eval()\n",
    "    with torch.no_grad() :\n",
    "        for x,y in loader :\n",
    "            x = x.to(device,dtype = torch.float32)\n",
    "            y = y.to(device,dtype = torch.float32)\n",
    "            y_pred = model(x)\n",
    "            loss = loss_fn(y_pred,y)\n",
    "            epoch_loss += loss.item()\n",
    "    epoch_loss = epoch_loss/len(loader)   \n",
    "    \n",
    "    return epoch_loss\n",
    "    "
   ]
  },
  {
   "cell_type": "code",
   "execution_count": 32,
   "id": "842c81e3-6204-4f71-8ff2-4007344cb729",
   "metadata": {},
   "outputs": [],
   "source": [
    "valid_y = sorted(glob(\"C:/Users/Pawan/Documents/pavan_data_500/valid/grdtruth/*\"))\n",
    "valid_x = sorted(glob(\"C:/Users/Pawan/Documents/pavan_data_500/valid/images/*\"))"
   ]
  },
  {
   "cell_type": "code",
   "execution_count": null,
   "id": "d883e889-791f-4871-b0c6-8d95b525e8f2",
   "metadata": {},
   "outputs": [],
   "source": []
  },
  {
   "cell_type": "code",
   "execution_count": null,
   "id": "a5a3fc6a-cddd-4068-b6c8-17675b4285ae",
   "metadata": {},
   "outputs": [],
   "source": []
  },
  {
   "cell_type": "code",
   "execution_count": 33,
   "id": "0b8ceb04-dfe3-42de-81a3-c8cc4f1d1d42",
   "metadata": {},
   "outputs": [
    {
     "name": "stdout",
     "output_type": "stream",
     "text": [
      "epoch  :  1|| trainloss : 97.56579201107934  || validloss : 10.772368812561036 \n",
      "epoch  :  2|| trainloss : 7.45348014831543  || validloss : 8.887883949279786 \n",
      "epoch  :  3|| trainloss : 5.631039583115351  || validloss : 7.862788677215576 \n",
      "epoch  :  4|| trainloss : 4.995779137384324  || validloss : 7.429006195068359 \n",
      "epoch  :  5|| trainloss : 4.644725054786319  || validloss : 6.974201583862305 \n",
      "epoch  :  6|| trainloss : 4.425727065404256  || validloss : 6.574645233154297 \n",
      "epoch  :  7|| trainloss : 4.265022018977574  || validloss : 6.319363212585449 \n",
      "epoch  :  8|| trainloss : 4.100423413231259  || validloss : 6.0309161186218265 \n",
      "epoch  :  9|| trainloss : 3.914357966468448  || validloss : 5.69721622467041 \n",
      "epoch  :  10|| trainloss : 3.6794032164982386  || validloss : 5.767018222808838 \n",
      "epoch  :  11|| trainloss : 3.434619347254435  || validloss : 6.0711541175842285 \n",
      "epoch  :  12|| trainloss : 3.2059194224221366  || validloss : 5.517566394805908 \n",
      "epoch  :  13|| trainloss : 3.015331120718093  || validloss : 5.209815788269043 \n",
      "epoch  :  14|| trainloss : 2.8749442350296746  || validloss : 5.05476713180542 \n",
      "epoch  :  15|| trainloss : 2.7759469327472504  || validloss : 5.162957859039307 \n",
      "epoch  :  16|| trainloss : 2.7034859679994128  || validloss : 4.864927291870117 \n",
      "epoch  :  17|| trainloss : 2.638645789736793  || validloss : 4.71746301651001 \n",
      "epoch  :  18|| trainloss : 2.585118089403425  || validloss : 4.69544095993042 \n",
      "epoch  :  19|| trainloss : 2.536262689317976  || validloss : 4.569090747833252 \n",
      "epoch  :  20|| trainloss : 2.488800463222322  || validloss : 4.4411567687988285 \n",
      "epoch  :  21|| trainloss : 2.4643178871699742  || validloss : 4.384644508361816 \n",
      "epoch  :  22|| trainloss : 2.413127972966149  || validloss : 4.220825290679931 \n",
      "epoch  :  23|| trainloss : 2.3806854406992595  || validloss : 4.472725868225098 \n",
      "epoch  :  24|| trainloss : 2.353317532085237  || validloss : 4.377713871002197 \n",
      "epoch  :  25|| trainloss : 2.3202244009290425  || validloss : 4.4291681289672855 \n"
     ]
    }
   ],
   "source": [
    "##### training the model\n",
    "best_valid_loss = float('inf')\n",
    "best_train_loss = float('inf')\n",
    "seeding(32)\n",
    "for epoch in range(epochs) :\n",
    "    train_loss = train(model1,train_loader,optimizer,loss_fn,device)\n",
    "    valid_loss = evaluate(model1,test_loader,loss_fn,device)\n",
    "    if valid_loss < best_valid_loss :\n",
    "        torch.save(model1.state_dict(),model_params_path)\n",
    "        best_valid_loss = valid_loss\n",
    "    if train_loss < best_train_loss :\n",
    "        torch.save(model1.state_dict(),model_params_trainpath)\n",
    "        best_train_loss = train_loss    \n",
    "    print(f\"epoch  : {epoch+1 : 02}|| trainloss : {train_loss}  || validloss : {valid_loss} \")    \n",
    "    \n",
    "    "
   ]
  },
  {
   "cell_type": "code",
   "execution_count": 45,
   "id": "1400a47b-9a2a-44a3-8ca7-e9e5c471e9e7",
   "metadata": {},
   "outputs": [
    {
     "data": {
      "image/png": "[encoded data removed]",
      "text/plain": [
       "<Figure size 640x480 with 1 Axes>"
      ]
     },
     "metadata": {},
     "output_type": "display_data"
    }
   ],
   "source": [
    "### testing\n",
    "\n",
    "x_path = valid_x[4]\n",
    "x =np.array(Image.open(x_path))\n",
    "y_path = valid_y[4]\n",
    "y = np.array(Image.open(y_path))\n",
    "type(x)\n",
    "#plt.subplot(1,3,1)\n",
    "#plt.imshow(x,cmap = 'gray')\n",
    "#plt.subplot(1,3,2)\n",
    "with torch.no_grad() :\n",
    "    \n",
    "    model = model_image_reconst()\n",
    "    model = model.to(device)\n",
    "    model.eval()\n",
    "    x = torch.from_numpy(x)\n",
    "    x =  x[None,None,:,:]\n",
    "    x = x.to(device,dtype = torch.float32)\n",
    "    model.load_state_dict(torch.load(model_params_trainpath,map_location = device))\n",
    "    y_pred = model(x)\n",
    "    #x = torch.squeeze(x,dim = 0)\n",
    "    #x = torch.squeeze(x,dim = 0)\n",
    "    #x = x.cpu().numpy()\n",
    "    \n",
    "    y_pred = torch.squeeze(y_pred ,dim = 0)\n",
    "    y_pred = torch.squeeze(y_pred ,dim = 0)\n",
    "    y_pred = y_pred.cpu().numpy()\n",
    "    #y_pred = np.array(y_pred,dtype =np.uint8)\n",
    "    #y_pred = y_pred\n",
    "    out = Image.fromarray(y_pred)\n",
    "    image_rgb =  out.convert('RGB')\n",
    "    image_rgb.save('DWTA_valid_4.png')\n",
    "    out.show()\n",
    "    \n",
    "    #plt.imshow(y, cmap = 'gray')\n",
    "    #plt.subplot(1,3,3)\n",
    "    plt.imshow(y_pred , cmap = 'gray')\n",
    "    "
   ]
  },
  {
   "cell_type": "code",
   "execution_count": null,
   "id": "9709d844-087e-4bb8-839a-b59bf7052006",
   "metadata": {},
   "outputs": [],
   "source": []
  },
  {
   "cell_type": "code",
   "execution_count": 38,
   "id": "866b0dd7-f82a-4b9c-bdcb-6f0fc77a5adf",
   "metadata": {},
   "outputs": [
    {
     "data": {
      "text/plain": [
       "<matplotlib.image.AxesImage at 0x1ca41c3b3a0>"
      ]
     },
     "execution_count": 38,
     "metadata": {},
     "output_type": "execute_result"
    },
    {
     "data": {
      "image/png": "[encoded data removed]",
      "text/plain": [
       "<Figure size 640x480 with 1 Axes>"
      ]
     },
     "metadata": {},
     "output_type": "display_data"
    }
   ],
   "source": [
    "import matplotlib.image as mpimg\n",
    "\n",
    "\n",
    "image_path = \"C:/Users/Pawan/Documents/PAVAN (MTECH 22EE65R07)/MTP/pavan/mono.jpg\"\n",
    "mpimag_ = mpimg.imread(image_path)\n",
    "#plt.imshow(mpimag_[750:1250,500:1000])\n",
    "image = Image.open(image_path)\n",
    "image_ = ImageOps.grayscale(image)\n",
    "image__ = np.array(image_,dtype = np.float32)\n",
    "\n",
    "imag = image__[500:1000,500:1000]\n",
    "imag_ = Image.fromarray(imag)\n",
    "imag_ = imag_.resize((100,100))\n",
    "imag_ = np.array(imag_,dtype = np.float32)\n",
    "\n",
    "\n",
    "#imag_.show()\n",
    "plt.imshow(imag_,cmap = 'summer')"
   ]
  },
  {
   "cell_type": "code",
   "execution_count": null,
   "id": "72cfa90a-cc49-4b6b-aaba-b3b71afdffa7",
   "metadata": {},
   "outputs": [],
   "source": [
    "y_n = torch.from_numpy(y.astype(np.float32))\n",
    "\n",
    "y_n = y_n[None,None,:,:]\n",
    "y_pred_n = torch.from_numpy(y_pred.astype(np.float32))\n",
    "y_pred_n = y_pred_n[None,None,:,:]\n",
    "\n",
    "import math\n",
    "from math import exp\n",
    "import torch\n",
    "import torch.nn.functional as F\n",
    "\n",
    "def ssim(img1, img2, window_size=11, sigma=1.5):\n",
    "    # Ensure inputs are in the range [0, 1]\n",
    "    img1 = torch.clamp(img1, 0, 1)\n",
    "    img2 = torch.clamp(img2, 0, 1)\n",
    "\n",
    "    # Create a Gaussian window\n",
    "    window = torch.tensor(\n",
    "        [[exp(-0.5 * ((i - window_size // 2) / sigma)**2 - 0.5 * ((j - window_size // 2) / sigma)**2)\n",
    "          for j in range(window_size)]\n",
    "         for i in range(window_size)]\n",
    "    ).unsqueeze(0).unsqueeze(0).to(img1.device, dtype=img1.dtype)\n",
    "    window = window / window.sum()\n",
    "\n",
    "    # Compute mean of both images\n",
    "    mu1 = F.conv2d(img1, window, padding=window_size // 2)\n",
    "    mu2 = F.conv2d(img2, window, padding=window_size // 2)\n",
    "\n",
    "    # Compute variance and covariance\n",
    "    mu1_sq = mu1**2\n",
    "    mu2_sq = mu2**2\n",
    "    mu1_mu2 = mu1 * mu2\n",
    "\n",
    "    sigma1_sq = F.conv2d(img1 * img1, window, padding=window_size // 2) - mu1_sq\n",
    "    sigma2_sq = F.conv2d(img2 * img2, window, padding=window_size // 2) - mu2_sq\n",
    "    sigma12 = F.conv2d(img1 * img2, window, padding=window_size // 2) - mu1_mu2\n",
    "\n",
    "    # Compute SSIM\n",
    "    C1 = (0.01 * 255)**2\n",
    "    C2 = (0.03 * 255)**2\n",
    "    ssim_map = ((2 * mu1_mu2 + C1) * (2 * sigma12 + C2)) / ((mu1_sq + mu2_sq + C1) * (sigma1_sq + sigma2_sq + C2))\n",
    "\n",
    "    # Compute mean SSIM over the image\n",
    "    ssim_index = torch.mean(ssim_map)\n",
    "\n",
    "    return ssim_index\n",
    "\n",
    "# Example usage\n",
    "img1 = torch.rand(1, 1, 100, 100)  # Example grayscale image\n",
    "img2 = torch.rand(1, 1, 100, 100)  # Example grayscale image\n",
    "\n",
    "ssim_value = ssim(y_n,y_pred_n)\n",
    "print(\"SSIM:\", ssim_value.item())\n",
    "\n",
    "\n",
    "y_n.dtype\n",
    "\n",
    " "
   ]
  },
  {
   "cell_type": "code",
   "execution_count": 39,
   "id": "26b05e27-c30a-45eb-bdfd-d157467ef8db",
   "metadata": {},
   "outputs": [
    {
     "name": "stdout",
     "output_type": "stream",
     "text": [
      "F\n"
     ]
    }
   ],
   "source": [
    "with torch.no_grad() :\n",
    "    \n",
    "    model = model_image_reconst()\n",
    "    model = model.to(device)\n",
    "    \n",
    "    imag = torch.from_numpy(np.array(imag_,dtype =np.float32))\n",
    "    imag =  imag[None,None,:,:]\n",
    "    imag = imag.to(device,dtype = torch.float32)\n",
    "    model.load_state_dict(torch.load(model_params_path,map_location = device))\n",
    "    y_pred = model(imag)\n",
    "    #x = torch.squeeze(x,dim = 0)\n",
    "    #x = torch.squeeze(x,dim = 0)\n",
    "    #x = x.cpu().numpy()\n",
    "    #model.eval()\n",
    "    y_pred = torch.squeeze(y_pred ,dim = 0)\n",
    "    y_pred = torch.squeeze(y_pred ,dim = 0)\n",
    "    y_pred = y_pred.cpu().numpy()\n",
    "    #y_pred = np.array(y_pred,dtype =np.uint8)\n",
    "    #y_pred = y_pred\n",
    "    out = Image.fromarray(y_pred)\n",
    "    print(out.mode)\n",
    "\n",
    "    image_rgb =  out.convert('RGB')\n",
    "    image_rgb.save('Attention.png')\n",
    "    out.show()\n",
    "    \n",
    "#    plt.imshow(y_pred, cmap = 'summer')\n",
    "    "
   ]
  },
  {
   "cell_type": "code",
   "execution_count": null,
   "id": "ceae1acd-52e9-4ce6-83d3-c21b9f20b741",
   "metadata": {},
   "outputs": [],
   "source": [
    "lll,hhh = dwt(x)\n",
    "lll = lll.cpu().numpy()\n",
    "lll = lll[0,0,:,:]\n",
    "out = Image.fromarray(lll)\n",
    "image_rgb =  out.convert('RGB')\n",
    "image_rgb.save('LL.png')\n",
    "out.show()\n",
    "    \n",
    "plt.imshow(lll,cmap ='gray')"
   ]
  },
  {
   "cell_type": "code",
   "execution_count": null,
   "id": "1bf3ed03-9dc7-4bf2-bcd8-0c9eb31ad7ea",
   "metadata": {},
   "outputs": [],
   "source": [
    "hhh1 = hhh[0,0,:,:]\n",
    "hhh2 = hhh[0,1,:,:]\n",
    "hhh3 = hhh[0,2,:,:]\n",
    "hhh1 = hhh1.cpu().numpy()\n",
    "out = Image.fromarray(hhh1)\n",
    "image_rgb =  out.convert('RGB')\n",
    "image_rgb.save('LH.png')\n",
    "out.show()\n",
    "plt.imshow(hhh1,cmap = 'gray')"
   ]
  },
  {
   "cell_type": "code",
   "execution_count": null,
   "id": "22b041e9-dcf9-40a8-bd24-8b3619ac8c4f",
   "metadata": {},
   "outputs": [],
   "source": [
    "hhh2 = hhh2.cpu().numpy()\n",
    "plt.imshow(hhh2,cmap = 'gray')"
   ]
  },
  {
   "cell_type": "code",
   "execution_count": null,
   "id": "e7989e18-598f-4381-b79c-8e551119c15f",
   "metadata": {},
   "outputs": [],
   "source": [
    "hhh3 = hhh3.cpu().numpy()\n",
    "plt.imshow(hhh3,cmap = 'gray')"
   ]
  },
  {
   "cell_type": "code",
   "execution_count": null,
   "id": "739e8b2d-1cba-40f1-980b-cef0e94fddc9",
   "metadata": {},
   "outputs": [],
   "source": []
  }
 ],
 "metadata": {
  "kernelspec": {
   "display_name": "Python 3 (ipykernel)",
   "language": "python",
   "name": "python3"
  },
  "language_info": {
   "codemirror_mode": {
    "name": "ipython",
    "version": 3
   },
   "file_extension": ".py",
   "mimetype": "text/x-python",
   "name": "python",
   "nbconvert_exporter": "python",
   "pygments_lexer": "ipython3",
   "version": "3.10.7"
  }
 },
 "nbformat": 4,
 "nbformat_minor": 5
}
